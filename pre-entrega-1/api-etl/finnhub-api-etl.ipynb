{
 "cells": [
  {
   "cell_type": "markdown",
   "metadata": {},
   "source": [
    "# Finnhub API\n",
    "Recuperando US stock data de API financiera."
   ]
  },
  {
   "cell_type": "markdown",
   "metadata": {},
   "source": [
    "## Readme\n",
    "Para correr este notebook es necesario un API Key de Finnhub. Puede ser configurado en un archivo\n",
    "`.env` bajo la carpeta `api-etl`, con nombre de variable `FINNHUB_API_TOKEN`.\n",
    "También es posible cargarla como variable de entorno del sistema opertivo."
   ]
  },
  {
   "cell_type": "markdown",
   "metadata": {},
   "source": [
    "## Imports"
   ]
  },
  {
   "cell_type": "code",
   "execution_count": 1,
   "metadata": {},
   "outputs": [],
   "source": [
    "import requests\n",
    "import os\n",
    "import pandas as pd"
   ]
  },
  {
   "cell_type": "markdown",
   "metadata": {},
   "source": [
    "## Load ENVs"
   ]
  },
  {
   "cell_type": "code",
   "execution_count": 2,
   "metadata": {},
   "outputs": [],
   "source": [
    "%load_ext dotenv\n",
    "%dotenv"
   ]
  },
  {
   "cell_type": "markdown",
   "metadata": {},
   "source": [
    "## API Class"
   ]
  },
  {
   "cell_type": "code",
   "execution_count": 3,
   "metadata": {},
   "outputs": [],
   "source": [
    "# La API tiene una libreria de Python, pero vamos a armar nuestra propia versión (más acorde a la consigna).\n",
    "\n",
    "class Finnhub:\n",
    "  BASE_URL=\"https://finnhub.io/api/v1\"\n",
    "\n",
    "  def __init__(self, token):\n",
    "    self.token = token\n",
    "  \n",
    "  def quote(self, symbol):\n",
    "    params = { \"symbol\": symbol, \"token\": self.token }\n",
    "    res = requests.get(f'{self.BASE_URL}/quote', params=params)\n",
    "    res.raise_for_status()\n",
    "    return res.json()"
   ]
  },
  {
   "cell_type": "markdown",
   "metadata": {},
   "source": [
    "Probando la API con el simbolo de Apple"
   ]
  },
  {
   "cell_type": "code",
   "execution_count": 4,
   "metadata": {},
   "outputs": [
    {
     "data": {
      "text/plain": [
       "{'c': 172.035,\n",
       " 'd': -1.275,\n",
       " 'dp': -0.7357,\n",
       " 'h': 172.23,\n",
       " 'l': 170.51,\n",
       " 'o': 171.7,\n",
       " 'pc': 173.31,\n",
       " 't': 1711654682}"
      ]
     },
     "execution_count": 4,
     "metadata": {},
     "output_type": "execute_result"
    }
   ],
   "source": [
    "api = Finnhub(token=os.environ['FINNHUB_API_TOKEN'])\n",
    "api.quote(\"AAPL\")"
   ]
  },
  {
   "cell_type": "markdown",
   "metadata": {},
   "source": [
    "## Extraer y Guardar"
   ]
  },
  {
   "cell_type": "markdown",
   "metadata": {},
   "source": [
    "Definimos nuestras acciones deseadas"
   ]
  },
  {
   "cell_type": "code",
   "execution_count": 5,
   "metadata": {},
   "outputs": [],
   "source": [
    "stocks = [\n",
    "  {'name': 'Apple', 'symbol': 'AAPL'},\n",
    "  {'name': 'Google', 'symbol': 'GOOGL'},\n",
    "  {'name': 'Coca Cola', 'symbol': 'KO'},\n",
    "  {'name': 'Microsoft', 'symbol': 'MSFT'},\n",
    "  {'name': 'Amazon', 'symbol': 'AMZN'},\n",
    "  {'name': 'JP Morgan', 'symbol': 'JPM'},\n",
    "  {'name': 'Spotify', 'symbol': 'SPOT'},\n",
    "  {'name': 'Disney', 'symbol': 'DIS'},\n",
    "  {'name': 'Tesla', 'symbol': 'TSLA'},\n",
    "  {'name': 'Intel', 'symbol': 'INTC'}\n",
    "]"
   ]
  },
  {
   "cell_type": "markdown",
   "metadata": {},
   "source": [
    "Conseguimos el precio de cada una, y lo guardamos en un array"
   ]
  },
  {
   "cell_type": "code",
   "execution_count": 6,
   "metadata": {},
   "outputs": [],
   "source": [
    "results = []"
   ]
  },
  {
   "cell_type": "code",
   "execution_count": 7,
   "metadata": {},
   "outputs": [
    {
     "name": "stdout",
     "output_type": "stream",
     "text": [
      "Apple: $172.03\n",
      "Google: $151.08\n",
      "Coca Cola: $61.13\n",
      "Microsoft: $421.25\n",
      "Amazon: $180.56\n",
      "JP Morgan: $200.56\n",
      "Spotify: $263.95\n",
      "Disney: $122.45\n",
      "Tesla: $175.58\n",
      "Intel: $44.08\n"
     ]
    }
   ],
   "source": [
    "for stock in stocks:\n",
    "  data = api.quote(stock['symbol'])\n",
    "  result = {k: data[k] for k in ('c', 'h', 'l', 'o', 'pc', 't')}\n",
    "  result = {**stock, **result}\n",
    "  results.append(result)\n",
    "  print(f\"{stock['name']}: ${data['c']:,.2f}\")"
   ]
  },
  {
   "cell_type": "markdown",
   "metadata": {},
   "source": [
    "Convertir datos a DF"
   ]
  },
  {
   "cell_type": "code",
   "execution_count": 8,
   "metadata": {},
   "outputs": [],
   "source": [
    "df = pd.DataFrame(results)\n",
    "df.rename(columns={'name': 'company', 'c': 'current_price', 'h': 'high_price', 'l': 'low_price', 'o': 'open_price', 'pc': 'last_close_price', 't': 'price_timestamp_unix'}, inplace=True)"
   ]
  },
  {
   "cell_type": "markdown",
   "metadata": {},
   "source": [
    "Categorizar columnas"
   ]
  },
  {
   "cell_type": "code",
   "execution_count": 9,
   "metadata": {},
   "outputs": [
    {
     "data": {
      "text/plain": [
       "company                  object\n",
       "symbol                   object\n",
       "current_price           float64\n",
       "high_price              float64\n",
       "low_price               float64\n",
       "open_price              float64\n",
       "last_close_price        float64\n",
       "price_timestamp_unix      int64\n",
       "dtype: object"
      ]
     },
     "execution_count": 9,
     "metadata": {},
     "output_type": "execute_result"
    }
   ],
   "source": [
    "df.company = df.company.astype(str)\n",
    "df.symbol = df.symbol.astype(str)\n",
    "df.dtypes"
   ]
  },
  {
   "cell_type": "markdown",
   "metadata": {},
   "source": [
    "Agregamos un formato fecha legible"
   ]
  },
  {
   "cell_type": "code",
   "execution_count": 10,
   "metadata": {},
   "outputs": [],
   "source": [
    "df['price_timestamp'] = pd.to_datetime(df.price_timestamp_unix, unit='s')"
   ]
  },
  {
   "cell_type": "markdown",
   "metadata": {},
   "source": [
    "## Resultado Final"
   ]
  },
  {
   "cell_type": "code",
   "execution_count": 11,
   "metadata": {},
   "outputs": [
    {
     "data": {
      "text/html": [
       "<div>\n",
       "<style scoped>\n",
       "    .dataframe tbody tr th:only-of-type {\n",
       "        vertical-align: middle;\n",
       "    }\n",
       "\n",
       "    .dataframe tbody tr th {\n",
       "        vertical-align: top;\n",
       "    }\n",
       "\n",
       "    .dataframe thead th {\n",
       "        text-align: right;\n",
       "    }\n",
       "</style>\n",
       "<table border=\"1\" class=\"dataframe\">\n",
       "  <thead>\n",
       "    <tr style=\"text-align: right;\">\n",
       "      <th></th>\n",
       "      <th>company</th>\n",
       "      <th>symbol</th>\n",
       "      <th>current_price</th>\n",
       "      <th>high_price</th>\n",
       "      <th>low_price</th>\n",
       "      <th>open_price</th>\n",
       "      <th>last_close_price</th>\n",
       "      <th>price_timestamp</th>\n",
       "    </tr>\n",
       "  </thead>\n",
       "  <tbody>\n",
       "    <tr>\n",
       "      <th>0</th>\n",
       "      <td>Apple</td>\n",
       "      <td>AAPL</td>\n",
       "      <td>172.0350</td>\n",
       "      <td>172.230</td>\n",
       "      <td>170.510</td>\n",
       "      <td>171.700</td>\n",
       "      <td>173.31</td>\n",
       "      <td>2024-03-28 19:38:02</td>\n",
       "    </tr>\n",
       "    <tr>\n",
       "      <th>1</th>\n",
       "      <td>Google</td>\n",
       "      <td>GOOGL</td>\n",
       "      <td>151.0800</td>\n",
       "      <td>151.430</td>\n",
       "      <td>150.170</td>\n",
       "      <td>150.840</td>\n",
       "      <td>150.87</td>\n",
       "      <td>2024-03-28 19:38:19</td>\n",
       "    </tr>\n",
       "    <tr>\n",
       "      <th>2</th>\n",
       "      <td>Coca Cola</td>\n",
       "      <td>KO</td>\n",
       "      <td>61.1350</td>\n",
       "      <td>61.260</td>\n",
       "      <td>60.995</td>\n",
       "      <td>61.140</td>\n",
       "      <td>61.03</td>\n",
       "      <td>2024-03-28 19:37:44</td>\n",
       "    </tr>\n",
       "    <tr>\n",
       "      <th>3</th>\n",
       "      <td>Microsoft</td>\n",
       "      <td>MSFT</td>\n",
       "      <td>421.2500</td>\n",
       "      <td>421.760</td>\n",
       "      <td>419.140</td>\n",
       "      <td>421.050</td>\n",
       "      <td>421.43</td>\n",
       "      <td>2024-03-28 19:38:14</td>\n",
       "    </tr>\n",
       "    <tr>\n",
       "      <th>4</th>\n",
       "      <td>Amazon</td>\n",
       "      <td>AMZN</td>\n",
       "      <td>180.5600</td>\n",
       "      <td>181.700</td>\n",
       "      <td>179.260</td>\n",
       "      <td>180.130</td>\n",
       "      <td>179.83</td>\n",
       "      <td>2024-03-28 19:37:46</td>\n",
       "    </tr>\n",
       "    <tr>\n",
       "      <th>5</th>\n",
       "      <td>JP Morgan</td>\n",
       "      <td>JPM</td>\n",
       "      <td>200.5600</td>\n",
       "      <td>200.710</td>\n",
       "      <td>198.580</td>\n",
       "      <td>199.490</td>\n",
       "      <td>199.52</td>\n",
       "      <td>2024-03-28 19:38:16</td>\n",
       "    </tr>\n",
       "    <tr>\n",
       "      <th>6</th>\n",
       "      <td>Spotify</td>\n",
       "      <td>SPOT</td>\n",
       "      <td>263.9500</td>\n",
       "      <td>268.545</td>\n",
       "      <td>258.000</td>\n",
       "      <td>258.530</td>\n",
       "      <td>260.20</td>\n",
       "      <td>2024-03-28 19:37:39</td>\n",
       "    </tr>\n",
       "    <tr>\n",
       "      <th>7</th>\n",
       "      <td>Disney</td>\n",
       "      <td>DIS</td>\n",
       "      <td>122.4499</td>\n",
       "      <td>123.740</td>\n",
       "      <td>121.200</td>\n",
       "      <td>121.250</td>\n",
       "      <td>120.98</td>\n",
       "      <td>2024-03-28 19:38:07</td>\n",
       "    </tr>\n",
       "    <tr>\n",
       "      <th>8</th>\n",
       "      <td>Tesla</td>\n",
       "      <td>TSLA</td>\n",
       "      <td>175.5800</td>\n",
       "      <td>179.570</td>\n",
       "      <td>175.490</td>\n",
       "      <td>177.459</td>\n",
       "      <td>179.83</td>\n",
       "      <td>2024-03-28 19:38:01</td>\n",
       "    </tr>\n",
       "    <tr>\n",
       "      <th>9</th>\n",
       "      <td>Intel</td>\n",
       "      <td>INTC</td>\n",
       "      <td>44.0750</td>\n",
       "      <td>44.600</td>\n",
       "      <td>43.710</td>\n",
       "      <td>43.797</td>\n",
       "      <td>43.77</td>\n",
       "      <td>2024-03-28 19:37:55</td>\n",
       "    </tr>\n",
       "  </tbody>\n",
       "</table>\n",
       "</div>"
      ],
      "text/plain": [
       "     company symbol  current_price  high_price  low_price  open_price  \\\n",
       "0      Apple   AAPL       172.0350     172.230    170.510     171.700   \n",
       "1     Google  GOOGL       151.0800     151.430    150.170     150.840   \n",
       "2  Coca Cola     KO        61.1350      61.260     60.995      61.140   \n",
       "3  Microsoft   MSFT       421.2500     421.760    419.140     421.050   \n",
       "4     Amazon   AMZN       180.5600     181.700    179.260     180.130   \n",
       "5  JP Morgan    JPM       200.5600     200.710    198.580     199.490   \n",
       "6    Spotify   SPOT       263.9500     268.545    258.000     258.530   \n",
       "7     Disney    DIS       122.4499     123.740    121.200     121.250   \n",
       "8      Tesla   TSLA       175.5800     179.570    175.490     177.459   \n",
       "9      Intel   INTC        44.0750      44.600     43.710      43.797   \n",
       "\n",
       "   last_close_price     price_timestamp  \n",
       "0            173.31 2024-03-28 19:38:02  \n",
       "1            150.87 2024-03-28 19:38:19  \n",
       "2             61.03 2024-03-28 19:37:44  \n",
       "3            421.43 2024-03-28 19:38:14  \n",
       "4            179.83 2024-03-28 19:37:46  \n",
       "5            199.52 2024-03-28 19:38:16  \n",
       "6            260.20 2024-03-28 19:37:39  \n",
       "7            120.98 2024-03-28 19:38:07  \n",
       "8            179.83 2024-03-28 19:38:01  \n",
       "9             43.77 2024-03-28 19:37:55  "
      ]
     },
     "execution_count": 11,
     "metadata": {},
     "output_type": "execute_result"
    }
   ],
   "source": [
    "df[['company', 'symbol', 'current_price', 'high_price', 'low_price', 'open_price', 'last_close_price', 'price_timestamp']]"
   ]
  }
 ],
 "metadata": {
  "kernelspec": {
   "display_name": "base",
   "language": "python",
   "name": "python3"
  },
  "language_info": {
   "codemirror_mode": {
    "name": "ipython",
    "version": 3
   },
   "file_extension": ".py",
   "mimetype": "text/x-python",
   "name": "python",
   "nbconvert_exporter": "python",
   "pygments_lexer": "ipython3",
   "version": "3.8.19"
  }
 },
 "nbformat": 4,
 "nbformat_minor": 2
}
