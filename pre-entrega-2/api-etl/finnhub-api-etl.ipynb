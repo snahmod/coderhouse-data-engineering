{
 "cells": [
  {
   "cell_type": "markdown",
   "metadata": {},
   "source": [
    "# Finnhub API\n",
    "Recuperando US stock data de API financiera."
   ]
  },
  {
   "cell_type": "markdown",
   "metadata": {},
   "source": [
    "## Readme\n",
    "Para correr este notebook es necesario un API Key de Finnhub. Puede ser configurado en un archivo\n",
    "`.env` bajo la carpeta `api-etl`, con nombre de variable `FINNHUB_API_TOKEN`.\n",
    "También es posible cargarla como variable de entorno del sistema opertivo.\n"
   ]
  },
  {
   "cell_type": "markdown",
   "metadata": {},
   "source": [
    "## Imports"
   ]
  },
  {
   "cell_type": "code",
   "execution_count": 59,
   "metadata": {},
   "outputs": [],
   "source": [
    "import requests\n",
    "import os\n",
    "import pandas as pd\n",
    "import psycopg2\n",
    "import datetime"
   ]
  },
  {
   "cell_type": "markdown",
   "metadata": {},
   "source": [
    "## Load ENVs"
   ]
  },
  {
   "cell_type": "code",
   "execution_count": 60,
   "metadata": {},
   "outputs": [
    {
     "name": "stdout",
     "output_type": "stream",
     "text": [
      "The dotenv extension is already loaded. To reload it, use:\n",
      "  %reload_ext dotenv\n"
     ]
    }
   ],
   "source": [
    "%load_ext dotenv\n",
    "%dotenv\n"
   ]
  },
  {
   "cell_type": "markdown",
   "metadata": {},
   "source": [
    "## API Class"
   ]
  },
  {
   "cell_type": "code",
   "execution_count": 61,
   "metadata": {},
   "outputs": [],
   "source": [
    "# La API tiene una libreria de Python, pero vamos a armar nuestra propia versión (más acorde a la consigna).\n",
    "\n",
    "class Finnhub:\n",
    "  BASE_URL=\"https://finnhub.io/api/v1\"\n",
    "\n",
    "  def __init__(self, token):\n",
    "    self.token = token\n",
    "  \n",
    "  def quote(self, symbol):\n",
    "    params = { \"symbol\": symbol, \"token\": self.token }\n",
    "    res = requests.get(f'{self.BASE_URL}/quote', params=params)\n",
    "    res.raise_for_status()\n",
    "    return res.json()"
   ]
  },
  {
   "cell_type": "markdown",
   "metadata": {},
   "source": [
    "Probando la API con el simbolo de Apple"
   ]
  },
  {
   "cell_type": "code",
   "execution_count": 62,
   "metadata": {},
   "outputs": [
    {
     "data": {
      "text/plain": [
       "{'c': 165.84,\n",
       " 'd': 0.84,\n",
       " 'dp': 0.5091,\n",
       " 'h': 167.26,\n",
       " 'l': 164.77,\n",
       " 'o': 165.75,\n",
       " 'pc': 165,\n",
       " 't': 1713816001}"
      ]
     },
     "execution_count": 62,
     "metadata": {},
     "output_type": "execute_result"
    }
   ],
   "source": [
    "api = Finnhub(token=os.environ['FINNHUB_API_TOKEN'])\n",
    "api.quote(\"AAPL\")"
   ]
  },
  {
   "cell_type": "markdown",
   "metadata": {},
   "source": [
    "## Extraer y Guardar"
   ]
  },
  {
   "cell_type": "markdown",
   "metadata": {},
   "source": [
    "Definimos nuestras acciones deseadas"
   ]
  },
  {
   "cell_type": "code",
   "execution_count": 63,
   "metadata": {},
   "outputs": [],
   "source": [
    "stocks = [\n",
    "  {'name': 'Apple', 'symbol': 'AAPL'},\n",
    "  {'name': 'Google', 'symbol': 'GOOGL'},\n",
    "  {'name': 'Coca Cola', 'symbol': 'KO'},\n",
    "  {'name': 'Microsoft', 'symbol': 'MSFT'},\n",
    "  {'name': 'Amazon', 'symbol': 'AMZN'},\n",
    "  {'name': 'JP Morgan', 'symbol': 'JPM'},\n",
    "  {'name': 'Spotify', 'symbol': 'SPOT'},\n",
    "  {'name': 'Disney', 'symbol': 'DIS'},\n",
    "  {'name': 'Tesla', 'symbol': 'TSLA'},\n",
    "  {'name': 'Intel', 'symbol': 'INTC'}\n",
    "]"
   ]
  },
  {
   "cell_type": "markdown",
   "metadata": {},
   "source": [
    "Conseguimos el precio de cada una, y lo guardamos en un array"
   ]
  },
  {
   "cell_type": "code",
   "execution_count": 64,
   "metadata": {},
   "outputs": [],
   "source": [
    "results = []"
   ]
  },
  {
   "cell_type": "code",
   "execution_count": 65,
   "metadata": {},
   "outputs": [
    {
     "name": "stdout",
     "output_type": "stream",
     "text": [
      "Apple: $165.84\n",
      "Google: $156.28\n",
      "Coca Cola: $60.55\n",
      "Microsoft: $400.96\n",
      "Amazon: $177.23\n",
      "JP Morgan: $189.41\n",
      "Spotify: $272.24\n",
      "Disney: $111.99\n",
      "Tesla: $142.05\n",
      "Intel: $34.41\n"
     ]
    }
   ],
   "source": [
    "for stock in stocks:\n",
    "  data = api.quote(stock['symbol'])\n",
    "  result = {k: data[k] for k in ('c', 'h', 'l', 'o', 'pc', 't')}\n",
    "  result = {**stock, **result}\n",
    "  results.append(result)\n",
    "  print(f\"{stock['name']}: ${data['c']:,.2f}\")"
   ]
  },
  {
   "cell_type": "markdown",
   "metadata": {},
   "source": [
    "Convertir datos a DF"
   ]
  },
  {
   "cell_type": "code",
   "execution_count": 66,
   "metadata": {},
   "outputs": [],
   "source": [
    "df = pd.DataFrame(results)\n",
    "df.rename(columns={'name': 'company', 'c': 'current_price', 'h': 'high_price', 'l': 'low_price', 'o': 'open_price', 'pc': 'last_close_price', 't': 'price_timestamp_unix'}, inplace=True)"
   ]
  },
  {
   "cell_type": "markdown",
   "metadata": {},
   "source": [
    "Categorizar columnas"
   ]
  },
  {
   "cell_type": "code",
   "execution_count": 67,
   "metadata": {},
   "outputs": [
    {
     "data": {
      "text/plain": [
       "company                  object\n",
       "symbol                   object\n",
       "current_price           float64\n",
       "high_price              float64\n",
       "low_price               float64\n",
       "open_price              float64\n",
       "last_close_price        float64\n",
       "price_timestamp_unix      int64\n",
       "dtype: object"
      ]
     },
     "execution_count": 67,
     "metadata": {},
     "output_type": "execute_result"
    }
   ],
   "source": [
    "df.company = df.company.astype(str)\n",
    "df.symbol = df.symbol.astype(str)\n",
    "df.dtypes"
   ]
  },
  {
   "cell_type": "markdown",
   "metadata": {},
   "source": [
    "Agregamos un formato fecha legible"
   ]
  },
  {
   "cell_type": "code",
   "execution_count": 68,
   "metadata": {},
   "outputs": [
    {
     "data": {
      "text/plain": [
       "company                         object\n",
       "symbol                          object\n",
       "current_price                  float64\n",
       "high_price                     float64\n",
       "low_price                      float64\n",
       "open_price                     float64\n",
       "last_close_price               float64\n",
       "price_timestamp_unix             int64\n",
       "price_timestamp         datetime64[ns]\n",
       "dtype: object"
      ]
     },
     "execution_count": 68,
     "metadata": {},
     "output_type": "execute_result"
    }
   ],
   "source": [
    "df['price_timestamp'] = pd.to_datetime(df.price_timestamp_unix, unit='s')\n",
    "df.dtypes"
   ]
  },
  {
   "cell_type": "markdown",
   "metadata": {},
   "source": [
    "## Resultado Final"
   ]
  },
  {
   "cell_type": "code",
   "execution_count": 69,
   "metadata": {},
   "outputs": [
    {
     "data": {
      "text/html": [
       "<div>\n",
       "<style scoped>\n",
       "    .dataframe tbody tr th:only-of-type {\n",
       "        vertical-align: middle;\n",
       "    }\n",
       "\n",
       "    .dataframe tbody tr th {\n",
       "        vertical-align: top;\n",
       "    }\n",
       "\n",
       "    .dataframe thead th {\n",
       "        text-align: right;\n",
       "    }\n",
       "</style>\n",
       "<table border=\"1\" class=\"dataframe\">\n",
       "  <thead>\n",
       "    <tr style=\"text-align: right;\">\n",
       "      <th></th>\n",
       "      <th>company</th>\n",
       "      <th>symbol</th>\n",
       "      <th>current_price</th>\n",
       "      <th>high_price</th>\n",
       "      <th>low_price</th>\n",
       "      <th>open_price</th>\n",
       "      <th>last_close_price</th>\n",
       "      <th>price_timestamp</th>\n",
       "    </tr>\n",
       "  </thead>\n",
       "  <tbody>\n",
       "    <tr>\n",
       "      <th>0</th>\n",
       "      <td>Apple</td>\n",
       "      <td>AAPL</td>\n",
       "      <td>165.84</td>\n",
       "      <td>167.260</td>\n",
       "      <td>164.7700</td>\n",
       "      <td>165.7500</td>\n",
       "      <td>165.00</td>\n",
       "      <td>2024-04-22 20:00:01</td>\n",
       "    </tr>\n",
       "    <tr>\n",
       "      <th>1</th>\n",
       "      <td>Google</td>\n",
       "      <td>GOOGL</td>\n",
       "      <td>156.28</td>\n",
       "      <td>157.640</td>\n",
       "      <td>154.0600</td>\n",
       "      <td>154.1100</td>\n",
       "      <td>154.09</td>\n",
       "      <td>2024-04-22 20:00:01</td>\n",
       "    </tr>\n",
       "    <tr>\n",
       "      <th>2</th>\n",
       "      <td>Coca Cola</td>\n",
       "      <td>KO</td>\n",
       "      <td>60.55</td>\n",
       "      <td>60.630</td>\n",
       "      <td>59.7150</td>\n",
       "      <td>60.1400</td>\n",
       "      <td>60.17</td>\n",
       "      <td>2024-04-22 20:00:02</td>\n",
       "    </tr>\n",
       "    <tr>\n",
       "      <th>3</th>\n",
       "      <td>Microsoft</td>\n",
       "      <td>MSFT</td>\n",
       "      <td>400.96</td>\n",
       "      <td>402.840</td>\n",
       "      <td>395.7500</td>\n",
       "      <td>400.1880</td>\n",
       "      <td>399.12</td>\n",
       "      <td>2024-04-22 20:00:00</td>\n",
       "    </tr>\n",
       "    <tr>\n",
       "      <th>4</th>\n",
       "      <td>Amazon</td>\n",
       "      <td>AMZN</td>\n",
       "      <td>177.23</td>\n",
       "      <td>178.860</td>\n",
       "      <td>174.5600</td>\n",
       "      <td>176.9299</td>\n",
       "      <td>174.63</td>\n",
       "      <td>2024-04-22 20:00:02</td>\n",
       "    </tr>\n",
       "    <tr>\n",
       "      <th>5</th>\n",
       "      <td>JP Morgan</td>\n",
       "      <td>JPM</td>\n",
       "      <td>189.41</td>\n",
       "      <td>190.125</td>\n",
       "      <td>185.9800</td>\n",
       "      <td>185.9900</td>\n",
       "      <td>185.80</td>\n",
       "      <td>2024-04-22 20:00:02</td>\n",
       "    </tr>\n",
       "    <tr>\n",
       "      <th>6</th>\n",
       "      <td>Spotify</td>\n",
       "      <td>SPOT</td>\n",
       "      <td>272.24</td>\n",
       "      <td>280.970</td>\n",
       "      <td>267.7600</td>\n",
       "      <td>280.9700</td>\n",
       "      <td>275.83</td>\n",
       "      <td>2024-04-22 20:00:02</td>\n",
       "    </tr>\n",
       "    <tr>\n",
       "      <th>7</th>\n",
       "      <td>Disney</td>\n",
       "      <td>DIS</td>\n",
       "      <td>111.99</td>\n",
       "      <td>113.640</td>\n",
       "      <td>111.7500</td>\n",
       "      <td>113.1000</td>\n",
       "      <td>112.61</td>\n",
       "      <td>2024-04-22 20:01:55</td>\n",
       "    </tr>\n",
       "    <tr>\n",
       "      <th>8</th>\n",
       "      <td>Tesla</td>\n",
       "      <td>TSLA</td>\n",
       "      <td>142.05</td>\n",
       "      <td>144.440</td>\n",
       "      <td>138.8025</td>\n",
       "      <td>140.6020</td>\n",
       "      <td>147.05</td>\n",
       "      <td>2024-04-22 20:00:01</td>\n",
       "    </tr>\n",
       "    <tr>\n",
       "      <th>9</th>\n",
       "      <td>Intel</td>\n",
       "      <td>INTC</td>\n",
       "      <td>34.41</td>\n",
       "      <td>34.565</td>\n",
       "      <td>34.0750</td>\n",
       "      <td>34.4000</td>\n",
       "      <td>34.20</td>\n",
       "      <td>2024-04-22 20:00:01</td>\n",
       "    </tr>\n",
       "  </tbody>\n",
       "</table>\n",
       "</div>"
      ],
      "text/plain": [
       "     company symbol  current_price  high_price  low_price  open_price  \\\n",
       "0      Apple   AAPL         165.84     167.260   164.7700    165.7500   \n",
       "1     Google  GOOGL         156.28     157.640   154.0600    154.1100   \n",
       "2  Coca Cola     KO          60.55      60.630    59.7150     60.1400   \n",
       "3  Microsoft   MSFT         400.96     402.840   395.7500    400.1880   \n",
       "4     Amazon   AMZN         177.23     178.860   174.5600    176.9299   \n",
       "5  JP Morgan    JPM         189.41     190.125   185.9800    185.9900   \n",
       "6    Spotify   SPOT         272.24     280.970   267.7600    280.9700   \n",
       "7     Disney    DIS         111.99     113.640   111.7500    113.1000   \n",
       "8      Tesla   TSLA         142.05     144.440   138.8025    140.6020   \n",
       "9      Intel   INTC          34.41      34.565    34.0750     34.4000   \n",
       "\n",
       "   last_close_price     price_timestamp  \n",
       "0            165.00 2024-04-22 20:00:01  \n",
       "1            154.09 2024-04-22 20:00:01  \n",
       "2             60.17 2024-04-22 20:00:02  \n",
       "3            399.12 2024-04-22 20:00:00  \n",
       "4            174.63 2024-04-22 20:00:02  \n",
       "5            185.80 2024-04-22 20:00:02  \n",
       "6            275.83 2024-04-22 20:00:02  \n",
       "7            112.61 2024-04-22 20:01:55  \n",
       "8            147.05 2024-04-22 20:00:01  \n",
       "9             34.20 2024-04-22 20:00:01  "
      ]
     },
     "execution_count": 69,
     "metadata": {},
     "output_type": "execute_result"
    }
   ],
   "source": [
    "\n",
    "df.drop_duplicates(subset=['symbol', 'price_timestamp'], keep='first', inplace=True)\n",
    "df[['company', 'symbol', 'current_price', 'high_price', 'low_price', 'open_price', 'last_close_price', 'price_timestamp']]\n",
    "\n"
   ]
  },
  {
   "cell_type": "markdown",
   "metadata": {},
   "source": [
    "Conexión a Redshift"
   ]
  },
  {
   "cell_type": "code",
   "execution_count": 70,
   "metadata": {},
   "outputs": [
    {
     "name": "stdout",
     "output_type": "stream",
     "text": [
      "Conectado a Redshift con éxito!\n"
     ]
    }
   ],
   "source": [
    "try:\n",
    "    conn = psycopg2.connect(\n",
    "        host=os.environ['REDSHIFT_HOST'],\n",
    "        dbname='data-engineer-database',\n",
    "        user=os.environ['REDSHIFT_USER'],\n",
    "        password=os.environ['REDSHIFT_PASSWORD'],\n",
    "        port='5439'\n",
    "    )\n",
    "    print('Conectado a Redshift con éxito!')\n",
    "    \n",
    "except Exception as e:\n",
    "    print('No es posible conectar a Redshift')\n",
    "    print(e)"
   ]
  },
  {
   "cell_type": "markdown",
   "metadata": {},
   "source": [
    "Crear tabla si no existe"
   ]
  },
  {
   "cell_type": "code",
   "execution_count": 76,
   "metadata": {},
   "outputs": [],
   "source": [
    "with conn.cursor() as cur:\n",
    "    cur.execute(\"\"\"\n",
    "        create table if not exists stock_history(\n",
    "            symbol varchar(100) not null, \n",
    "            company varchar(100),\n",
    "            current_price\tfloat,\n",
    "            high_price float,\n",
    "            low_price\tfloat,\n",
    "            open_price float,\n",
    "            last_close_price float,\n",
    "            price_timestamp timestamp not null ,\n",
    "            created_at timestamp,\n",
    "            primary key (symbol, price_timestamp)\n",
    "            );\n",
    "    \"\"\")\n",
    "    conn.commit()"
   ]
  },
  {
   "cell_type": "markdown",
   "metadata": {},
   "source": [
    "Insertar registros si no existen"
   ]
  },
  {
   "cell_type": "code",
   "execution_count": 75,
   "metadata": {},
   "outputs": [],
   "source": [
    "with conn.cursor() as cur:\n",
    "\n",
    "    for index, row in df.iterrows():\n",
    "        # Verificar si ya existe el registro\n",
    "        cur.execute(\n",
    "            \"SELECT 1 FROM stock_history WHERE symbol = %s AND price_timestamp = %s\",\n",
    "            (row[\"symbol\"], row[\"price_timestamp\"]),\n",
    "        )\n",
    "        already_exists = cur.fetchone()\n",
    "        \n",
    "        if already_exists is None:\n",
    "            # Ejecutar insert\n",
    "            cur.execute(\n",
    "                \"\"\"INSERT INTO stock_history(\n",
    "                                symbol,\n",
    "                                company,\n",
    "                                current_price,\n",
    "                                high_price,\n",
    "                                low_price,\n",
    "                                open_price,\n",
    "                                last_close_price,\n",
    "                                price_timestamp,\n",
    "                                created_at) VALUES %s\n",
    "    \"\"\",\n",
    "                [\n",
    "                    (\n",
    "                        row[\"symbol\"],\n",
    "                        row[\"company\"],\n",
    "                        row[\"current_price\"],\n",
    "                        row[\"high_price\"],\n",
    "                        row[\"low_price\"],\n",
    "                        row[\"open_price\"],\n",
    "                        row[\"last_close_price\"],\n",
    "                        row[\"price_timestamp\"].isoformat(timespec=\"seconds\"),\n",
    "                        datetime.datetime.now(datetime.UTC).isoformat(timespec=\"seconds\"),\n",
    "                    )\n",
    "                ],\n",
    "            )\n",
    "    conn.commit()"
   ]
  },
  {
   "cell_type": "code",
   "execution_count": 73,
   "metadata": {},
   "outputs": [],
   "source": [
    "# Cerrar conexion\n",
    "conn.close()"
   ]
  },
  {
   "cell_type": "code",
   "execution_count": null,
   "metadata": {},
   "outputs": [],
   "source": []
  }
 ],
 "metadata": {
  "kernelspec": {
   "display_name": "base",
   "language": "python",
   "name": "python3"
  },
  "language_info": {
   "codemirror_mode": {
    "name": "ipython",
    "version": 3
   },
   "file_extension": ".py",
   "mimetype": "text/x-python",
   "name": "python",
   "nbconvert_exporter": "python",
   "pygments_lexer": "ipython3",
   "version": "3.11.7"
  }
 },
 "nbformat": 4,
 "nbformat_minor": 2
}
